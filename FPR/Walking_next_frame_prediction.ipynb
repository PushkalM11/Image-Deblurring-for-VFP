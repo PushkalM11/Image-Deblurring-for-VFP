{
 "cells": [
  {
   "cell_type": "code",
   "execution_count": null,
   "id": "0851a9f8",
   "metadata": {},
   "outputs": [],
   "source": [
    "!which python3"
   ]
  },
  {
   "cell_type": "code",
   "execution_count": null,
   "id": "1029d241",
   "metadata": {},
   "outputs": [],
   "source": [
    "import cv2\n",
    "import torchinfo\n",
    "import numpy as np\n",
    "from torch.optim import Adam\n",
    "from torch.utils.data import DataLoader"
   ]
  },
  {
   "cell_type": "code",
   "execution_count": null,
   "id": "368653b0",
   "metadata": {},
   "outputs": [],
   "source": [
    "import io\n",
    "import imageio\n",
    "from tqdm import tqdm\n",
    "from avi_r import AVIReader\n",
    "import matplotlib.pyplot as plt\n",
    "from ipywidgets import widgets, HBox"
   ]
  },
  {
   "cell_type": "code",
   "execution_count": null,
   "id": "533c7194",
   "metadata": {},
   "outputs": [],
   "source": [
    "import os\n",
    "import torch\n",
    "import torch.nn as nn"
   ]
  },
  {
   "cell_type": "code",
   "execution_count": null,
   "id": "afbd28ca",
   "metadata": {},
   "outputs": [],
   "source": [
    "class ConvLSTMCell(nn.Module):\n",
    "\n",
    "    def __init__(self, in_channels, out_channels, \n",
    "    kernel_size, padding, activation, frame_size):\n",
    "\n",
    "        super(ConvLSTMCell, self).__init__()  \n",
    "\n",
    "        if activation == \"tanh\":\n",
    "            self.activation = torch.tanh \n",
    "        elif activation == \"relu\":\n",
    "            self.activation = torch.relu\n",
    "        \n",
    "        # Idea adapted from https://github.com/ndrplz/ConvLSTM_pytorch\n",
    "        self.conv = nn.Conv2d(\n",
    "            in_channels=in_channels + out_channels, \n",
    "            out_channels=4 * out_channels, \n",
    "            kernel_size=kernel_size, \n",
    "            padding=padding)           \n",
    "\n",
    "        # Initialize weights for Hadamard Products\n",
    "        self.W_ci = nn.Parameter(torch.Tensor(out_channels, *frame_size))\n",
    "        self.W_co = nn.Parameter(torch.Tensor(out_channels, *frame_size))\n",
    "        self.W_cf = nn.Parameter(torch.Tensor(out_channels, *frame_size))\n",
    "\n",
    "    def forward(self, X, H_prev, C_prev):\n",
    "\n",
    "        # Idea adapted from https://github.com/ndrplz/ConvLSTM_pytorch\n",
    "        conv_output = self.conv(torch.cat([X, H_prev], dim=1))\n",
    "\n",
    "        # Idea adapted from https://github.com/ndrplz/ConvLSTM_pytorch\n",
    "        i_conv, f_conv, C_conv, o_conv = torch.chunk(conv_output, chunks=4, dim=1)\n",
    "\n",
    "        input_gate = torch.sigmoid(i_conv + self.W_ci * C_prev )\n",
    "        forget_gate = torch.sigmoid(f_conv + self.W_cf * C_prev )\n",
    "\n",
    "        # Current Cell output\n",
    "        C = forget_gate*C_prev + input_gate * self.activation(C_conv)\n",
    "\n",
    "        output_gate = torch.sigmoid(o_conv + self.W_co * C )\n",
    "\n",
    "        # Current Hidden State\n",
    "        H = output_gate * self.activation(C)\n",
    "\n",
    "        return H, C"
   ]
  },
  {
   "cell_type": "code",
   "execution_count": null,
   "id": "754a5d21",
   "metadata": {},
   "outputs": [],
   "source": [
    "class ConvLSTM(nn.Module):\n",
    "\n",
    "    def __init__(self, in_channels, out_channels, \n",
    "    kernel_size, padding, activation, frame_size):\n",
    "\n",
    "        super(ConvLSTM, self).__init__()\n",
    "\n",
    "        self.out_channels = out_channels\n",
    "\n",
    "        # We will unroll this over time steps\n",
    "        self.convLSTMcell = ConvLSTMCell(in_channels, out_channels, \n",
    "        kernel_size, padding, activation, frame_size)\n",
    "\n",
    "    def forward(self, X):\n",
    "\n",
    "        # X is a frame sequence (batch_size, num_channels, seq_len, height, width)\n",
    "\n",
    "        # Get the dimensions\n",
    "        batch_size, _, seq_len, height, width = X.size()\n",
    "\n",
    "        # Initialize output\n",
    "        output = torch.zeros(batch_size, self.out_channels, seq_len, \n",
    "        height, width, device=device)\n",
    "        \n",
    "        # Initialize Hidden State\n",
    "        H = torch.zeros(batch_size, self.out_channels, \n",
    "        height, width, device=device)\n",
    "\n",
    "        # Initialize Cell Input\n",
    "        C = torch.zeros(batch_size,self.out_channels, \n",
    "        height, width, device=device)\n",
    "\n",
    "        # Unroll over time steps\n",
    "        for time_step in range(seq_len):\n",
    "\n",
    "            H, C = self.convLSTMcell(X[:,:,time_step], H, C)\n",
    "\n",
    "            output[:,:,time_step] = H\n",
    "\n",
    "        return output"
   ]
  },
  {
   "cell_type": "code",
   "execution_count": null,
   "id": "b35db8c7",
   "metadata": {},
   "outputs": [],
   "source": [
    "class Seq2Seq(nn.Module):\n",
    "\n",
    "    def __init__(self, num_channels, num_kernels, kernel_size, padding, \n",
    "    activation, frame_size, num_layers):\n",
    "\n",
    "        super(Seq2Seq, self).__init__()\n",
    "\n",
    "        self.sequential = nn.Sequential()\n",
    "\n",
    "        # Add First layer (Different in_channels than the rest)\n",
    "        self.sequential.add_module(\n",
    "            \"convlstm1\", ConvLSTM(\n",
    "                in_channels=num_channels, out_channels=num_kernels,\n",
    "                kernel_size=kernel_size, padding=padding, \n",
    "                activation=activation, frame_size=frame_size)\n",
    "        )\n",
    "\n",
    "        self.sequential.add_module(\n",
    "            \"batchnorm1\", nn.BatchNorm3d(num_features=num_kernels)\n",
    "        ) \n",
    "\n",
    "        # Add rest of the layers\n",
    "        for l in range(2, num_layers+1):\n",
    "\n",
    "            self.sequential.add_module(\n",
    "                f\"convlstm{l}\", ConvLSTM(\n",
    "                    in_channels=num_kernels, out_channels=num_kernels,\n",
    "                    kernel_size=kernel_size, padding=padding, \n",
    "                    activation=activation, frame_size=frame_size)\n",
    "                )\n",
    "                \n",
    "            self.sequential.add_module(\n",
    "                f\"batchnorm{l}\", nn.BatchNorm3d(num_features=num_kernels)\n",
    "                ) \n",
    "\n",
    "        # Add Convolutional Layer to predict output frame\n",
    "        self.conv = nn.Conv2d(\n",
    "            in_channels=num_kernels, out_channels=num_channels,\n",
    "            kernel_size=kernel_size, padding=padding)\n",
    "\n",
    "    def forward(self, X):\n",
    "\n",
    "        # Forward propagation through all the layers\n",
    "        output = self.sequential(X)\n",
    "\n",
    "        # Return only the last output frame\n",
    "        output = self.conv(output[:,:,-1])\n",
    "        \n",
    "        return nn.Sigmoid()(output)"
   ]
  },
  {
   "cell_type": "code",
   "execution_count": null,
   "id": "d3fb2e13",
   "metadata": {},
   "outputs": [],
   "source": [
    "def rgb2gray(rgb):\n",
    "    return np.dot(rgb[...,:3], [0.299, 0.587, 0.144])"
   ]
  },
  {
   "cell_type": "code",
   "execution_count": null,
   "id": "568908fe",
   "metadata": {},
   "outputs": [],
   "source": [
    "device = torch.device('cuda' if torch.cuda.is_available() else 'cpu')"
   ]
  },
  {
   "cell_type": "code",
   "execution_count": null,
   "id": "77b490d6",
   "metadata": {},
   "outputs": [],
   "source": [
    "device"
   ]
  },
  {
   "cell_type": "code",
   "execution_count": null,
   "id": "127fd8b5",
   "metadata": {},
   "outputs": [],
   "source": [
    "WalkingDataset = np.load('train_on_beach.npy')\n",
    "print(WalkingDataset.shape)"
   ]
  },
  {
   "cell_type": "code",
   "execution_count": null,
   "id": "2e87f0a8",
   "metadata": {},
   "outputs": [],
   "source": [
    "np.random.shuffle(WalkingDataset)"
   ]
  },
  {
   "cell_type": "code",
   "execution_count": null,
   "id": "69b9e98a",
   "metadata": {
    "scrolled": true
   },
   "outputs": [],
   "source": [
    "tr_idx = 0\n",
    "tr_data = 25\n",
    "test_data = np.random.randint(0, high = len(WalkingDataset), size = 3)\n",
    "\n",
    "train_data = WalkingDataset[tr_idx : tr_idx + tr_data, 0:100]\n",
    "test_data = WalkingDataset[tr_idx + tr_data : , 0:100]\n",
    "\n",
    "print(f\"Train Data shape: {train_data.shape}\")\n",
    "print(f\"Test Data shape: {test_data.shape}\")"
   ]
  },
  {
   "cell_type": "code",
   "execution_count": null,
   "id": "e5a60683",
   "metadata": {},
   "outputs": [],
   "source": [
    "!nvidia-smi"
   ]
  },
  {
   "cell_type": "code",
   "execution_count": null,
   "id": "655503c7",
   "metadata": {},
   "outputs": [],
   "source": [
    "def collate(batch):\n",
    "\n",
    "    # Add channel dim, scale pixels between 0 and 1, send to GPU\n",
    "    batch = torch.tensor(batch, dtype = torch.float32).unsqueeze(1)     \n",
    "    batch = batch / 255.0                                          \n",
    "    batch = batch.to(device)\n",
    "    \n",
    "    return batch[:,:,15:55].to(device), batch[:,:,55].to(device)"
   ]
  },
  {
   "cell_type": "code",
   "execution_count": null,
   "id": "c1cc163f",
   "metadata": {},
   "outputs": [],
   "source": [
    "# Training Data Loader\n",
    "train_loader = DataLoader(train_data, shuffle=True, \n",
    "                        batch_size=1, collate_fn=collate)"
   ]
  },
  {
   "cell_type": "code",
   "execution_count": null,
   "id": "f0a54b7d",
   "metadata": {},
   "outputs": [],
   "source": [
    "fps = 20\n",
    "\n",
    "# Get a batch\n",
    "inp, _ = next(iter(train_loader))\n",
    "\n",
    "# Reverse process before displaying\n",
    "inp = inp.cpu().numpy() * 255.0     \n",
    "\n",
    "for video in inp.squeeze(1)[:]:          # Loop over videos\n",
    "    with io.BytesIO() as gif:\n",
    "        imageio.mimsave(gif,video.astype(np.uint8),\"GIF\",fps=fps)\n",
    "        display(HBox([widgets.Image(value=gif.getvalue())]))"
   ]
  },
  {
   "cell_type": "code",
   "execution_count": null,
   "id": "2eb6fb81",
   "metadata": {},
   "outputs": [],
   "source": [
    "# The input video frames are grayscale, thus single channel\n",
    "model = Seq2Seq(num_channels = 1, num_kernels = 64, \n",
    "                kernel_size = (3, 3), padding = (1, 1), activation=\"relu\", \n",
    "                frame_size = (120, 160), num_layers = 3).to(device)\n",
    "\n",
    "optim = Adam(model.parameters(), lr=1e-4)\n",
    "\n",
    "# Binary Cross Entropy, target pixel values either 0 or 1\n",
    "criterion = nn.BCELoss(reduction = 'sum')"
   ]
  },
  {
   "cell_type": "code",
   "execution_count": null,
   "id": "27c4be52",
   "metadata": {
    "scrolled": true
   },
   "outputs": [],
   "source": [
    "num_epochs = 50\n",
    "tr_loss = []\n",
    "\n",
    "for epoch in range(1, num_epochs+1):\n",
    "    pbar = tqdm(total=len(train_loader), position=0, leave=True, bar_format='{l_bar}{bar:60}{r_bar}{bar:-10b}')\n",
    "    train_loss = 0                                                 \n",
    "    model.train()                                                  \n",
    "    for batch_num, (inp, target) in enumerate(train_loader, 1):  \n",
    "        output = model(inp)                                     \n",
    "        loss = criterion(output.flatten(), target.flatten())       \n",
    "        loss.backward()                                            \n",
    "        optim.step()                                               \n",
    "        optim.zero_grad()                                           \n",
    "        train_loss += loss.item()\n",
    "        pbar.update(1)\n",
    "    train_loss /= len(train_loader.dataset)                       \n",
    "\n",
    "    val_loss = 0                                                         \n",
    "    print(\"Epoch:{} Training Loss:{:.2f}\\n\".format(epoch, train_loss))\n",
    "    tr_loss.append(train_loss)"
   ]
  },
  {
   "cell_type": "code",
   "execution_count": null,
   "id": "e8b91d95",
   "metadata": {
    "scrolled": false
   },
   "outputs": [],
   "source": [
    "plt.figure(figsize = (12, 4))\n",
    "plt.subplot(1, 2, 1)\n",
    "plt.plot(1+np.arange(num_epochs), tr_loss)\n",
    "plt.title(\"Training Loss\")\n",
    "plt.xlabel(\"Epoch\")\n",
    "plt.ylabel(\"Loss\")\n",
    "\n",
    "plt.show()"
   ]
  },
  {
   "cell_type": "code",
   "execution_count": null,
   "id": "1d6ee87a",
   "metadata": {},
   "outputs": [],
   "source": [
    "model_dir = \"\"\n",
    "model_path = os.path.join(model_dir, \"tmp\"+\".pth\")\n",
    "torch.save(model.state_dict(), model_path)"
   ]
  },
  {
   "cell_type": "code",
   "execution_count": null,
   "id": "15e033c0",
   "metadata": {},
   "outputs": [],
   "source": [
    "# model.load_state_dict(torch.load(\"/home/staditya/Desktop/Pushkal/IVP Project/ConvLSTM/tmp.pth\"))"
   ]
  },
  {
   "cell_type": "code",
   "execution_count": null,
   "id": "c4701105",
   "metadata": {},
   "outputs": [],
   "source": [
    "def collate_test(batch):\n",
    "\n",
    "    # 50th to 60th frames are target\n",
    "    target = np.array(batch)[:, 45 : 60]                     \n",
    "    \n",
    "    # Add channel dim, scale pixels between 0 and 1, send to GPU\n",
    "    batch = torch.tensor(batch, dtype = torch.float32).unsqueeze(1)          \n",
    "    batch = batch / 255.0                          \n",
    "    return batch[:,:,5:60].to(device), target"
   ]
  },
  {
   "cell_type": "code",
   "execution_count": null,
   "id": "73f33649",
   "metadata": {
    "scrolled": true
   },
   "outputs": [],
   "source": [
    "# Test Data Loader\n",
    "test_loader = DataLoader(test_data,shuffle=True, batch_size=1, collate_fn=collate_test)"
   ]
  },
  {
   "cell_type": "code",
   "execution_count": null,
   "id": "f77d9454",
   "metadata": {
    "scrolled": true
   },
   "outputs": [],
   "source": [
    "final_targets = []\n",
    "final_outputs = []\n",
    "\n",
    "for i in range(len(test_loader)):\n",
    "    batch, target = next(iter(test_loader))\n",
    "    # print(batch.shape)\n",
    "    print(i + 1, target.shape)\n",
    "    # Initialize output sequence\n",
    "    output = np.zeros(target.shape, dtype = np.uint8)\n",
    "\n",
    "    # Loop over timesteps\n",
    "    for timestep in range(target.shape[1]):\n",
    "        inp = batch[:,:,timestep : 40 + timestep]   \n",
    "        output[:, timestep] = (model(inp).squeeze(1).cpu().detach().numpy().astype(float)) * 255.0\n",
    "    final_targets.append(target)\n",
    "    final_outputs.append(output)"
   ]
  },
  {
   "cell_type": "code",
   "execution_count": null,
   "id": "1c2592b5",
   "metadata": {
    "scrolled": true
   },
   "outputs": [],
   "source": [
    "fps = 20\n",
    "tmp = 1\n",
    "for target, output in zip(final_targets, final_outputs):\n",
    "    \n",
    "    # Loop over samples\n",
    "    target = np.array(target, dtype = 'uint8').squeeze()\n",
    "    output = np.array(output, dtype = 'uint8').squeeze()\n",
    "\n",
    "    with io.BytesIO() as gif:\n",
    "        imageio.mimsave(gif, target, \"GIF\", fps = fps)    \n",
    "        target_gif = gif.getvalue()\n",
    "    \n",
    "    with io.BytesIO() as gif:\n",
    "        imageio.mimsave(gif, output, \"GIF\", fps = fps)    \n",
    "        output_gif = gif.getvalue()\n",
    "    \n",
    "    print(f\"\\nTest video: {tmp}\")\n",
    "    display(HBox([widgets.Image(value=target_gif), \n",
    "                  widgets.Image(value=output_gif)]))\n",
    "\n",
    "    tmp += 1"
   ]
  },
  {
   "cell_type": "code",
   "execution_count": null,
   "id": "5ee75a2f",
   "metadata": {
    "scrolled": true
   },
   "outputs": [],
   "source": [
    "test_on_train_loader = DataLoader(train_data,shuffle=True, \n",
    "                         batch_size=1, collate_fn=collate_test)\n",
    "\n",
    "train_final_targets = []\n",
    "train_final_outputs = []\n",
    "\n",
    "for i in range(len(test_on_train_loader)):\n",
    "    batch, target = next(iter(test_on_train_loader))\n",
    "    # print(batch.shape)\n",
    "    print(i + 1, target.shape)\n",
    "    # Initialize output sequence\n",
    "    output = np.zeros(target.shape, dtype = np.uint8)\n",
    "\n",
    "    # Loop over timesteps\n",
    "    for timestep in range(target.shape[1]):\n",
    "        inp = batch[:,:,timestep : 40 + timestep]   \n",
    "        output[:, timestep] = (model(inp).squeeze(1).cpu().detach()) * 255.0\n",
    "    train_final_targets.append(target)\n",
    "    train_final_outputs.append(output)"
   ]
  },
  {
   "cell_type": "code",
   "execution_count": null,
   "id": "456639fd",
   "metadata": {
    "scrolled": true
   },
   "outputs": [],
   "source": [
    "tmp = 1\n",
    "fps = 20\n",
    "for target, output in zip(train_final_targets, train_final_outputs):\n",
    "    \n",
    "    # Loop over samples\n",
    "    target = np.array(target, dtype = 'uint8').squeeze()\n",
    "    output = np.array(output, dtype = 'uint8').squeeze()\n",
    "    \n",
    "    with io.BytesIO() as gif:\n",
    "        imageio.mimsave(gif, target, \"GIF\", fps = fps)    \n",
    "        target_gif = gif.getvalue()\n",
    "    \n",
    "    with io.BytesIO() as gif:\n",
    "        imageio.mimsave(gif, output, \"GIF\", fps = fps)    \n",
    "        output_gif = gif.getvalue()\n",
    "    \n",
    "    print(f\"\\nTest video: {tmp}\")\n",
    "    display(HBox([widgets.Image(value=target_gif), \n",
    "                  widgets.Image(value=output_gif)]))\n",
    "    tmp += 1"
   ]
  },
  {
   "cell_type": "code",
   "execution_count": null,
   "id": "6c17a3e2",
   "metadata": {},
   "outputs": [],
   "source": [
    "# target_array = np.array(train_final_targets+final_targets).squeeze(1)\n",
    "# output_array = np.array(train_final_outputs+final_outputs).squeeze(1)\n",
    "\n",
    "# np.save('output_model_1.npy', output_array)\n",
    "# np.save('target_model_1.npy', target_array)"
   ]
  }
 ],
 "metadata": {
  "kernelspec": {
   "display_name": "Python 3",
   "language": "python",
   "name": "python3"
  },
  "language_info": {
   "codemirror_mode": {
    "name": "ipython",
    "version": 3
   },
   "file_extension": ".py",
   "mimetype": "text/x-python",
   "name": "python",
   "nbconvert_exporter": "python",
   "pygments_lexer": "ipython3",
   "version": "3.8.16"
  }
 },
 "nbformat": 4,
 "nbformat_minor": 5
}
