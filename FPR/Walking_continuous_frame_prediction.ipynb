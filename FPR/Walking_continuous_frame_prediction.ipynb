{
 "cells": [
  {
   "cell_type": "code",
   "execution_count": null,
   "id": "0851a9f8",
   "metadata": {},
   "outputs": [],
   "source": [
    "!which python3"
   ]
  },
  {
   "cell_type": "code",
   "execution_count": null,
   "id": "1029d241",
   "metadata": {},
   "outputs": [],
   "source": [
    "import cv2\n",
    "import torchinfo\n",
    "import numpy as np\n",
    "from torch.optim import Adam\n",
    "from torch.utils.data import DataLoader"
   ]
  },
  {
   "cell_type": "code",
   "execution_count": null,
   "id": "368653b0",
   "metadata": {},
   "outputs": [],
   "source": [
    "import io\n",
    "import imageio\n",
    "from tqdm import tqdm\n",
    "from avi_r import AVIReader\n",
    "import matplotlib.pyplot as plt\n",
    "from ipywidgets import widgets, HBox"
   ]
  },
  {
   "cell_type": "code",
   "execution_count": null,
   "id": "533c7194",
   "metadata": {},
   "outputs": [],
   "source": [
    "import os\n",
    "import torch\n",
    "import torch.nn as nn"
   ]
  },
  {
   "cell_type": "code",
   "execution_count": null,
   "id": "afbd28ca",
   "metadata": {},
   "outputs": [],
   "source": [
    "class ConvLSTMCell(nn.Module):\n",
    "\n",
    "    def __init__(self, in_channels, out_channels, \n",
    "    kernel_size, padding, activation, frame_size):\n",
    "\n",
    "        super(ConvLSTMCell, self).__init__()  \n",
    "\n",
    "        if activation == \"tanh\":\n",
    "            self.activation = torch.tanh \n",
    "        elif activation == \"relu\":\n",
    "            self.activation = torch.relu\n",
    "        \n",
    "        # Idea adapted from https://github.com/ndrplz/ConvLSTM_pytorch\n",
    "        self.conv = nn.Conv2d(\n",
    "            in_channels=in_channels + out_channels, \n",
    "            out_channels=4 * out_channels, \n",
    "            kernel_size=kernel_size, \n",
    "            padding=padding)           \n",
    "\n",
    "        # Initialize weights for Hadamard Products\n",
    "        self.W_ci = nn.Parameter(torch.Tensor(out_channels, *frame_size))\n",
    "        self.W_co = nn.Parameter(torch.Tensor(out_channels, *frame_size))\n",
    "        self.W_cf = nn.Parameter(torch.Tensor(out_channels, *frame_size))\n",
    "\n",
    "    def forward(self, X, H_prev, C_prev):\n",
    "\n",
    "        # Idea adapted from https://github.com/ndrplz/ConvLSTM_pytorch\n",
    "        conv_output = self.conv(torch.cat([X, H_prev], dim=1))\n",
    "\n",
    "        # Idea adapted from https://github.com/ndrplz/ConvLSTM_pytorch\n",
    "        i_conv, f_conv, C_conv, o_conv = torch.chunk(conv_output, chunks=4, dim=1)\n",
    "\n",
    "        input_gate = torch.sigmoid(i_conv + self.W_ci * C_prev )\n",
    "        forget_gate = torch.sigmoid(f_conv + self.W_cf * C_prev )\n",
    "\n",
    "        # Current Cell output\n",
    "        C = forget_gate*C_prev + input_gate * self.activation(C_conv)\n",
    "\n",
    "        output_gate = torch.sigmoid(o_conv + self.W_co * C )\n",
    "\n",
    "        # Current Hidden State\n",
    "        H = output_gate * self.activation(C)\n",
    "\n",
    "        return H, C"
   ]
  },
  {
   "cell_type": "code",
   "execution_count": null,
   "id": "754a5d21",
   "metadata": {},
   "outputs": [],
   "source": [
    "class ConvLSTM(nn.Module):\n",
    "\n",
    "    def __init__(self, in_channels, out_channels, \n",
    "    kernel_size, padding, activation, frame_size):\n",
    "\n",
    "        super(ConvLSTM, self).__init__()\n",
    "\n",
    "        self.out_channels = out_channels\n",
    "\n",
    "        # We will unroll this over time steps\n",
    "        self.convLSTMcell = ConvLSTMCell(in_channels, out_channels, \n",
    "        kernel_size, padding, activation, frame_size)\n",
    "\n",
    "    def forward(self, X):\n",
    "\n",
    "        # X is a frame sequence (batch_size, num_channels, seq_len, height, width)\n",
    "\n",
    "        # Get the dimensions\n",
    "        batch_size, _, seq_len, height, width = X.size()\n",
    "\n",
    "        # Initialize output\n",
    "        output = torch.zeros(batch_size, self.out_channels, seq_len, \n",
    "        height, width, device=device)\n",
    "        \n",
    "        # Initialize Hidden State\n",
    "        H = torch.zeros(batch_size, self.out_channels, \n",
    "        height, width, device=device)\n",
    "\n",
    "        # Initialize Cell Input\n",
    "        C = torch.zeros(batch_size,self.out_channels, \n",
    "        height, width, device=device)\n",
    "\n",
    "        # Unroll over time steps\n",
    "        for time_step in range(seq_len):\n",
    "\n",
    "            H, C = self.convLSTMcell(X[:,:,time_step], H, C)\n",
    "\n",
    "            output[:,:,time_step] = H\n",
    "\n",
    "        return output"
   ]
  },
  {
   "cell_type": "code",
   "execution_count": null,
   "id": "b35db8c7",
   "metadata": {},
   "outputs": [],
   "source": [
    "class Seq2Seq(nn.Module):\n",
    "\n",
    "    def __init__(self, num_channels, num_kernels, kernel_size, padding, \n",
    "    activation, frame_size, num_layers):\n",
    "\n",
    "        super(Seq2Seq, self).__init__()\n",
    "\n",
    "        self.sequential = nn.Sequential()\n",
    "\n",
    "        # Add First layer (Different in_channels than the rest)\n",
    "        self.sequential.add_module(\n",
    "            \"convlstm1\", ConvLSTM(\n",
    "                in_channels=num_channels, out_channels=num_kernels,\n",
    "                kernel_size=kernel_size, padding=padding, \n",
    "                activation=activation, frame_size=frame_size)\n",
    "        )\n",
    "\n",
    "        self.sequential.add_module(\n",
    "            \"batchnorm1\", nn.BatchNorm3d(num_features=num_kernels)\n",
    "        ) \n",
    "\n",
    "        # Add rest of the layers\n",
    "        for l in range(2, num_layers+1):\n",
    "\n",
    "            self.sequential.add_module(\n",
    "                f\"convlstm{l}\", ConvLSTM(\n",
    "                    in_channels=num_kernels, out_channels=num_kernels,\n",
    "                    kernel_size=kernel_size, padding=padding, \n",
    "                    activation=activation, frame_size=frame_size)\n",
    "                )\n",
    "                \n",
    "            self.sequential.add_module(\n",
    "                f\"batchnorm{l}\", nn.BatchNorm3d(num_features=num_kernels)\n",
    "                ) \n",
    "\n",
    "        # Add Convolutional Layer to predict output frame\n",
    "        self.conv = nn.Conv2d(\n",
    "            in_channels=num_kernels, out_channels=num_channels,\n",
    "            kernel_size=kernel_size, padding=padding)\n",
    "\n",
    "    def forward(self, X):\n",
    "\n",
    "        # Forward propagation through all the layers\n",
    "        output = self.sequential(X)\n",
    "\n",
    "        # Return only the last output frame\n",
    "        output = self.conv(output[:,:,-1])\n",
    "        \n",
    "        return nn.Sigmoid()(output)"
   ]
  },
  {
   "cell_type": "code",
   "execution_count": null,
   "id": "d3fb2e13",
   "metadata": {},
   "outputs": [],
   "source": [
    "def rgb2gray(rgb):\n",
    "    return np.dot(rgb[...,:3], [0.299, 0.587, 0.144])"
   ]
  },
  {
   "cell_type": "code",
   "execution_count": null,
   "id": "568908fe",
   "metadata": {},
   "outputs": [],
   "source": [
    "device = torch.device('cuda' if torch.cuda.is_available() else 'cpu')\n",
    "# device = torch.device('cpu')"
   ]
  },
  {
   "cell_type": "code",
   "execution_count": null,
   "id": "77b490d6",
   "metadata": {},
   "outputs": [],
   "source": [
    "device"
   ]
  },
  {
   "cell_type": "code",
   "execution_count": null,
   "id": "127fd8b5",
   "metadata": {},
   "outputs": [],
   "source": [
    "WalkingDataset = np.load('train_on_beach.npy')\n",
    "print(WalkingDataset.shape)"
   ]
  },
  {
   "cell_type": "code",
   "execution_count": null,
   "id": "2e87f0a8",
   "metadata": {},
   "outputs": [],
   "source": [
    "np.random.shuffle(WalkingDataset)"
   ]
  },
  {
   "cell_type": "code",
   "execution_count": null,
   "id": "69b9e98a",
   "metadata": {
    "scrolled": true
   },
   "outputs": [],
   "source": [
    "dataset = WalkingDataset[:,5:100]"
   ]
  },
  {
   "cell_type": "code",
   "execution_count": null,
   "id": "2eb6fb81",
   "metadata": {},
   "outputs": [],
   "source": [
    "# The input video frames are grayscale, thus single channel\n",
    "model = Seq2Seq(num_channels = 1, num_kernels = 64, \n",
    "                kernel_size = (3, 3), padding = (1, 1), activation=\"relu\", \n",
    "                frame_size = (120, 160), num_layers = 3).to(device)\n",
    "\n",
    "optim = Adam(model.parameters(), lr=1e-4)\n",
    "\n",
    "# Binary Cross Entropy, target pixel values either 0 or 1\n",
    "criterion = nn.BCELoss(reduction = 'sum')"
   ]
  },
  {
   "cell_type": "code",
   "execution_count": null,
   "id": "faa7c7e1",
   "metadata": {
    "scrolled": true
   },
   "outputs": [],
   "source": [
    "model.load_state_dict(torch.load(\"/home/staditya/Desktop/Pushkal/IVP Project/ConvLSTM/tmp.pth\"))"
   ]
  },
  {
   "cell_type": "code",
   "execution_count": null,
   "id": "4b08eff6",
   "metadata": {},
   "outputs": [],
   "source": [
    "def collate_test(batch):\n",
    "\n",
    "    # 45th to 60th frames are target\n",
    "    target = np.array(batch)[:,-1]                     \n",
    "    \n",
    "    # Add channel dim, scale pixels between 0 and 1, send to GPU\n",
    "    batch = torch.tensor(batch, dtype = torch.float32).unsqueeze(1)          \n",
    "    batch = batch / 255.0                          \n",
    "    return batch[:,:,:40].to(device), target"
   ]
  },
  {
   "cell_type": "code",
   "execution_count": null,
   "id": "200987d4",
   "metadata": {
    "scrolled": true
   },
   "outputs": [],
   "source": [
    "a, b, c, d = [], [], [], []\n",
    "\n",
    "for data_i in range(20):\n",
    "    data = dataset[data_i]\n",
    "    outputs = []\n",
    "    ground_truths = []\n",
    "\n",
    "    for i in range(10):\n",
    "        previous_block = dataset[data_i, i : 40]\n",
    "\n",
    "        if i > 0:\n",
    "            new_block = np.concatenate((previous_block, np.array(outputs).squeeze(1)), axis = 0)\n",
    "        else:\n",
    "            new_block = previous_block\n",
    "\n",
    "        target = dataset[data_i, 40 + i]\n",
    "        ground_truths.append(target)\n",
    "\n",
    "        new_block = np.concatenate((new_block, [target]), axis = 0)\n",
    "\n",
    "        test_loader = DataLoader([new_block], batch_size=1, collate_fn=collate_test)\n",
    "        batch, tgt = next(iter(test_loader))\n",
    "\n",
    "        inp = batch[:,:, : 40]\n",
    "        output = (model(inp).squeeze(1).cpu().detach().numpy().astype(float)) * 255.0\n",
    "\n",
    "        outputs.append(output)\n",
    "    fps = 5\n",
    "    tmp = data_i + 1\n",
    "    ground_truths = np.array(ground_truths, dtype = np.uint8)\n",
    "    outputs = np.array(outputs, dtype = np.uint8).squeeze()\n",
    "    \n",
    "    with io.BytesIO() as gif:\n",
    "        imageio.mimsave(gif, ground_truths, \"GIF\", fps = fps)    \n",
    "        output_gif = gif.getvalue()\n",
    "\n",
    "    with io.BytesIO() as gif:\n",
    "        imageio.mimsave(gif, outputs, \"GIF\", fps = fps)    \n",
    "        target_gif = gif.getvalue()\n",
    "\n",
    "    print(f\"\\nTest video: {tmp}\")\n",
    "    display(HBox([widgets.Image(value=output_gif), \n",
    "                  widgets.Image(value=target_gif)]))\n",
    "    if data_i % 2 == 0:\n",
    "        a = ground_truths\n",
    "        b = outputs\n",
    "    else:\n",
    "        c = ground_truths\n",
    "        d = outputs"
   ]
  },
  {
   "cell_type": "code",
   "execution_count": null,
   "id": "cd7343f5",
   "metadata": {},
   "outputs": [],
   "source": [
    "np.save('gt1.npy', a)\n",
    "np.save('gt2.npy', c)\n",
    "np.save('compound_effect_1.npy', b)\n",
    "np.save('compound_effect_2.npy', d)"
   ]
  }
 ],
 "metadata": {
  "kernelspec": {
   "display_name": "Python 3",
   "language": "python",
   "name": "python3"
  },
  "language_info": {
   "codemirror_mode": {
    "name": "ipython",
    "version": 3
   },
   "file_extension": ".py",
   "mimetype": "text/x-python",
   "name": "python",
   "nbconvert_exporter": "python",
   "pygments_lexer": "ipython3",
   "version": "3.8.16"
  }
 },
 "nbformat": 4,
 "nbformat_minor": 5
}
