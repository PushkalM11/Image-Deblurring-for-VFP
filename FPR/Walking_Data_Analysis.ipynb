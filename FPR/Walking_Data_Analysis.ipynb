{
 "cells": [
  {
   "cell_type": "code",
   "execution_count": null,
   "id": "c1b149de",
   "metadata": {},
   "outputs": [],
   "source": [
    "import io\n",
    "import os\n",
    "import imageio\n",
    "import numpy as np\n",
    "from avi_r import AVIReader\n",
    "import matplotlib.pyplot as plt\n",
    "from ipywidgets import widgets, HBox"
   ]
  },
  {
   "cell_type": "code",
   "execution_count": null,
   "id": "5572507b",
   "metadata": {},
   "outputs": [],
   "source": [
    "def rgb2gray(rgb):\n",
    "    return np.dot(rgb[...,:3], [0.299, 0.587, 0.144])"
   ]
  },
  {
   "cell_type": "code",
   "execution_count": null,
   "id": "cb2825df",
   "metadata": {},
   "outputs": [],
   "source": [
    "# Add path to dataset here\n",
    "master_path = '/home/staditya/Desktop/Pushkal/IVP Project/ConvLSTM/Walking/'\n",
    "\n",
    "\n",
    "file_names = os.listdir(master_path)\n",
    "\n",
    "WalkingDataset = []\n",
    "min_frame = np.inf\n",
    "\n",
    "for i, file in enumerate(file_names):\n",
    "    images = []\n",
    "    video = AVIReader(master_path + file) \n",
    "    for frame in video:\n",
    "        image = frame.numpy()\n",
    "        images.append(rgb2gray(image))\n",
    "    video.close()\n",
    "    images = np.array(images)\n",
    "    if images.shape[0] < min_frame:\n",
    "        min_frame = images.shape[0]\n",
    "    WalkingDataset.append(np.array(images)[:300])       "
   ]
  },
  {
   "cell_type": "code",
   "execution_count": null,
   "id": "9b0df26b",
   "metadata": {},
   "outputs": [],
   "source": [
    "tmp = np.load('train_combined.npy')\n",
    "print(tmp.shape)"
   ]
  },
  {
   "cell_type": "code",
   "execution_count": null,
   "id": "29788e4e",
   "metadata": {
    "scrolled": true
   },
   "outputs": [],
   "source": [
    "fps = 20\n",
    "# for i in range(len(WalkingDataset)):\n",
    "for i in range(tmp.shape[0]):\n",
    "    video = tmp[i][5:70]\n",
    "    with io.BytesIO() as gif:\n",
    "        print(f\"Video: {i}\")\n",
    "        imageio.mimsave(gif,video.astype(np.uint8),\"GIF\",fps=fps)\n",
    "        display(HBox([widgets.Image(value=gif.getvalue())]))\n",
    "        print(f\"Total number of frames: {video.shape[0]}\\n\")"
   ]
  },
  {
   "cell_type": "code",
   "execution_count": null,
   "id": "35e353f9",
   "metadata": {},
   "outputs": [],
   "source": [
    "train_1 = [3, 6, 10, 12, 13, 14, 16, 29, 35, 39, 46, 53, 57, 58, 75, 80, 85, 86, 90, 93, 94, 98, 99]\n",
    "data_1 = []\n",
    "\n",
    "for i in train_1:\n",
    "    data_1.append(WalkingDataset[i][ : 100])\n",
    "np.save('train_in_house.npy', data_1)"
   ]
  },
  {
   "cell_type": "code",
   "execution_count": null,
   "id": "043bb529",
   "metadata": {},
   "outputs": [],
   "source": [
    "train_2 = [1, 2, 7, 9, 11, 17, 20, 21, 23, 30, 32, 37, 40, 42,\n",
    "           43, 47, 50, 59, 60, 61, 65, 68, 70, 79, 81, 83, 91, 92]\n",
    "data_2 = []\n",
    "for i in train_2:\n",
    "    data_2.append(WalkingDataset[i][ : 100])\n",
    "np.save('train_on_beach.npy', data_2)"
   ]
  },
  {
   "cell_type": "code",
   "execution_count": null,
   "id": "badba02e",
   "metadata": {},
   "outputs": [],
   "source": [
    "a1 = np.load('train_in_house.npy')\n",
    "a2 = np.load('train_on_beach.npy')\n",
    "\n",
    "combined = np.concatenate((a1, a2))\n",
    "np.save('train_combined.npy', combined)"
   ]
  }
 ],
 "metadata": {
  "kernelspec": {
   "display_name": "Python 3",
   "language": "python",
   "name": "python3"
  },
  "language_info": {
   "codemirror_mode": {
    "name": "ipython",
    "version": 3
   },
   "file_extension": ".py",
   "mimetype": "text/x-python",
   "name": "python",
   "nbconvert_exporter": "python",
   "pygments_lexer": "ipython3",
   "version": "3.8.16"
  }
 },
 "nbformat": 4,
 "nbformat_minor": 5
}
